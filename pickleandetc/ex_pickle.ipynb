{
 "cells": [
  {
   "cell_type": "code",
   "execution_count": 1,
   "metadata": {},
   "outputs": [
    {
     "name": "stdout",
     "output_type": "stream",
     "text": [
      "['Iron man', 'Doctor Strange', 'Scarlett witch', 'Torr', 'Hulk']\n"
     ]
    }
   ],
   "source": [
    "# Ch. 9, List and Dictionary\n",
    "heroes = [\"Iron man\", \"Doctor Strange\", \"Scarlett witch\", \"Torr\", \"Hulk\"]\n",
    "print(heroes)"
   ]
  },
  {
   "cell_type": "code",
   "execution_count": 2,
   "metadata": {},
   "outputs": [
    {
     "name": "stdout",
     "output_type": "stream",
     "text": [
      "[]\n"
     ]
    }
   ],
   "source": [
    "heroes = [ ]\n",
    "print(heroes)"
   ]
  },
  {
   "cell_type": "code",
   "execution_count": 3,
   "metadata": {},
   "outputs": [
    {
     "name": "stdout",
     "output_type": "stream",
     "text": [
      "['Iron man', 'Doctor Strange']\n"
     ]
    }
   ],
   "source": [
    "heroes = [ ]\n",
    "heroes.append(\"Iron man\")\n",
    "heroes.append(\"Doctor Strange\")\n",
    "print(heroes)\n",
    "# 파이썬에서 모든 것은 객체(object)이다. \n",
    "#   객체는 관련되는 변수와 함수를 묶은 것이다. \n",
    "#    (variable=attribute, function = method)\n",
    "#   파이썬에서 리스트도 객체이다. \n",
    "#   객체 안에 있는 무엇인가를 사용할 때는 객체의 이름을 쓰고 \n",
    "#   점(.)을 붙인 후에 함수의 이름을 적는다."
   ]
  },
  {
   "cell_type": "code",
   "execution_count": 4,
   "metadata": {},
   "outputs": [
    {
     "name": "stdout",
     "output_type": "stream",
     "text": [
      "A\n",
      "B\n",
      "C\n"
     ]
    }
   ],
   "source": [
    "letters = ['A', 'B', 'C', 'D', 'E', 'F']\n",
    "print(letters[0])\n",
    "print(letters[1])\n",
    "print(letters[2])"
   ]
  },
  {
   "cell_type": "code",
   "execution_count": 5,
   "metadata": {},
   "outputs": [
    {
     "name": "stdout",
     "output_type": "stream",
     "text": [
      "['A', 'B', 'C']\n"
     ]
    }
   ],
   "source": [
    "# Ch. 9, Slicing in a list (인덱스 생략), p.257\n",
    "# Slicing은 list에서 한 번에 여러 개의 항목을 추출하는 것이다.\n",
    "print(letters[:3])"
   ]
  },
  {
   "cell_type": "code",
   "execution_count": 6,
   "metadata": {},
   "outputs": [
    {
     "name": "stdout",
     "output_type": "stream",
     "text": [
      "['D', 'E', 'F']\n"
     ]
    }
   ],
   "source": [
    "# Ch. 9, Slicing\n",
    "print(letters[3:])"
   ]
  },
  {
   "cell_type": "code",
   "execution_count": 7,
   "metadata": {},
   "outputs": [
    {
     "name": "stdout",
     "output_type": "stream",
     "text": [
      "['A', 'B', 'C', 'D', 'E', 'F']\n"
     ]
    }
   ],
   "source": [
    "print(letters[:])"
   ]
  },
  {
   "cell_type": "code",
   "execution_count": 8,
   "metadata": {},
   "outputs": [
    {
     "name": "stdout",
     "output_type": "stream",
     "text": [
      "['A', 'B', 'C', 'D', 'E', 'F']\n"
     ]
    }
   ],
   "source": [
    "print(letters)"
   ]
  },
  {
   "cell_type": "code",
   "execution_count": 9,
   "metadata": {},
   "outputs": [
    {
     "name": "stdout",
     "output_type": "stream",
     "text": [
      "['Iron man', 'Doctor Strange', 'Scarlett witch', 'Torr', 'Hulk']\n"
     ]
    }
   ],
   "source": [
    "heroes = [\"Iron man\", \"Doctor Strange\", \"Scarlett witch\", \"Torr\", \"Hulk\"]\n",
    "print(heroes)"
   ]
  },
  {
   "cell_type": "code",
   "execution_count": 10,
   "metadata": {},
   "outputs": [
    {
     "name": "stdout",
     "output_type": "stream",
     "text": [
      "['Iron man', 'Doctor Strange', 'Spider man', 'Torr', 'Hulk']\n"
     ]
    }
   ],
   "source": [
    "# Ch. 9, Changing a certain item in the list, 리스트 항목 변경하기, p.258\n",
    "heroes[2] = \"Spider man\"\n",
    "print(heroes)"
   ]
  },
  {
   "cell_type": "code",
   "execution_count": 11,
   "metadata": {},
   "outputs": [
    {
     "name": "stdout",
     "output_type": "stream",
     "text": [
      "['Iron man', 'Doctor Strange', 'Spider man', 'Torr', 'Hulk', 'Ant man']\n"
     ]
    }
   ],
   "source": [
    "heroes.append(\"Ant man\")\n",
    "print(heroes)"
   ]
  },
  {
   "cell_type": "code",
   "execution_count": 12,
   "metadata": {},
   "outputs": [
    {
     "name": "stdout",
     "output_type": "stream",
     "text": [
      "['Iron man', 'Bat man', 'Doctor Strange', 'Spider man', 'Torr', 'Hulk', 'Ant man']\n"
     ]
    }
   ],
   "source": [
    "heroes.insert(1, \"Bat man\")\n",
    "print(heroes)"
   ]
  },
  {
   "cell_type": "code",
   "execution_count": 13,
   "metadata": {},
   "outputs": [
    {
     "name": "stdout",
     "output_type": "stream",
     "text": [
      "['Iron man', 'Doctor Strange', 'Spider man', 'Torr', 'Hulk', 'Ant man']\n"
     ]
    }
   ],
   "source": [
    "# Ch. 9, Deleting an item in the list (항목 삭제하기), p.260\n",
    "heroes.remove(\"Bat man\")\n",
    "print(heroes)"
   ]
  },
  {
   "cell_type": "code",
   "execution_count": 14,
   "metadata": {},
   "outputs": [
    {
     "name": "stdout",
     "output_type": "stream",
     "text": [
      "['Iron man', 'Doctor Strange', 'Spider man', 'Torr', 'Hulk']\n"
     ]
    }
   ],
   "source": [
    "# Ch. 9, pop()은 리스트에서 맨 마지막 항목을 삭제한다.\n",
    "heroes.pop()\n",
    "print(heroes)"
   ]
  },
  {
   "cell_type": "code",
   "execution_count": 15,
   "metadata": {},
   "outputs": [
    {
     "name": "stdout",
     "output_type": "stream",
     "text": [
      "['Iron man', 'Doctor Strange', 'Spider man', 'Hulk']\n"
     ]
    }
   ],
   "source": [
    "# Ch. 9, del 은 index를 사용하여 item (항목)을 삭제한다.\n",
    "del heroes[3]\n",
    "print(heroes)"
   ]
  },
  {
   "cell_type": "code",
   "execution_count": 16,
   "metadata": {},
   "outputs": [
    {
     "name": "stdout",
     "output_type": "stream",
     "text": [
      "2\n"
     ]
    }
   ],
   "source": [
    "# Ch. 9, Searching the index of items in a List, p.261\n",
    "heroes = [ \"Iron man\", \"Thor\", \"Hulk\", \"Scarlet witch\" ]\n",
    "print(heroes.index(\"Hulk\"))"
   ]
  },
  {
   "cell_type": "code",
   "execution_count": 17,
   "metadata": {},
   "outputs": [
    {
     "name": "stdout",
     "output_type": "stream",
     "text": [
      "Iron man\n",
      "Thor\n",
      "Hulk\n",
      "Scarlet witch\n"
     ]
    }
   ],
   "source": [
    "# Ch. 9, Listing items in a List\n",
    "heroes = [ \"Iron man\", \"Thor\", \"Hulk\", \"Scarlet witch\" ]\n",
    "for hero in heroes:\n",
    "    print(hero)"
   ]
  },
  {
   "cell_type": "code",
   "execution_count": 18,
   "metadata": {},
   "outputs": [
    {
     "name": "stdout",
     "output_type": "stream",
     "text": [
      "['Hulk', 'Iron man', 'Scarlet witch', 'Thor']\n"
     ]
    }
   ],
   "source": [
    "# Ch. 9, Sorting items in a List, p.262\n",
    "heroes = [ \"Iron man\", \"Thor\", \"Hulk\", \"Scarlet witch\" ]\n",
    "heroes.sort()  # Sorting in an alphabetic order\n",
    "print(heroes)"
   ]
  },
  {
   "cell_type": "markdown",
   "metadata": {},
   "source": [
    "![title](dictionary.jpg)"
   ]
  },
  {
   "cell_type": "markdown",
   "metadata": {},
   "source": [
    "![title](dictionary_list.png)"
   ]
  },
  {
   "cell_type": "markdown",
   "metadata": {},
   "source": [
    "![title](dictionary-nested_key.jpg)"
   ]
  },
  {
   "cell_type": "code",
   "execution_count": 40,
   "metadata": {},
   "outputs": [
    {
     "name": "stdout",
     "output_type": "stream",
     "text": [
      "{'Alice': '010-1234-5678'}\n"
     ]
    }
   ],
   "source": [
    "# Ch. 9, Dictionary, p.268\n",
    "phone_book = { }\n",
    "phone_book[\"Alice\"] = \"010-1234-5678\"\n",
    "\n",
    "print(phone_book)"
   ]
  },
  {
   "cell_type": "code",
   "execution_count": 41,
   "metadata": {},
   "outputs": [
    {
     "name": "stdout",
     "output_type": "stream",
     "text": [
      "{'Alice': '010-2233-5678', 'Thomas': '010-1234-5680', 'Daniel': '010-1234-5679'}\n"
     ]
    }
   ],
   "source": [
    "# Ch. 9, Dictionary, p.269\n",
    "phone_book = {\"Alice\": \"010-2233-5678\"}\n",
    "phone_book[\"Thomas\"] = \"010-1234-5680\"\n",
    "phone_book[\"Daniel\"] = \"010-1234-5679\"\n",
    "\n",
    "print(phone_book)"
   ]
  },
  {
   "cell_type": "code",
   "execution_count": 42,
   "metadata": {},
   "outputs": [
    {
     "data": {
      "text/plain": [
       "dict_keys(['Alice', 'Thomas', 'Daniel'])"
      ]
     },
     "execution_count": 42,
     "metadata": {},
     "output_type": "execute_result"
    }
   ],
   "source": [
    "# Ch. 9, Dictionary manipulation, p.270\n",
    "phone_book.keys()"
   ]
  },
  {
   "cell_type": "code",
   "execution_count": 43,
   "metadata": {},
   "outputs": [
    {
     "data": {
      "text/plain": [
       "dict_values(['010-2233-5678', '010-1234-5680', '010-1234-5679'])"
      ]
     },
     "execution_count": 43,
     "metadata": {},
     "output_type": "execute_result"
    }
   ],
   "source": [
    "# Ch. 9, Dictionary manipulation, p.270\n",
    "phone_book.values()"
   ]
  },
  {
   "cell_type": "code",
   "execution_count": 44,
   "metadata": {},
   "outputs": [
    {
     "name": "stdout",
     "output_type": "stream",
     "text": [
      "Chris\n",
      "17\n"
     ]
    }
   ],
   "source": [
    "# Ch. 9, Dictionary manipulation, p.270\n",
    "dict = {'Name': 'Chris', 'Age': 17, 'Class': 'Beginner'}\n",
    "print (dict['Name'])\n",
    "print (dict['Age'])"
   ]
  },
  {
   "cell_type": "code",
   "execution_count": 47,
   "metadata": {},
   "outputs": [
    {
     "name": "stdout",
     "output_type": "stream",
     "text": [
      "Alice 010-2233-5678\n",
      "Alice\n",
      "010-2233-5678\n",
      "{'Alice': '010-2233-5678', 'Thomas': '010-1234-5680', 'Daniel': '010-1234-5679'}\n",
      "Daniel 010-1234-5679\n",
      "Daniel\n",
      "010-1234-5679\n",
      "{'Alice': '010-2233-5678', 'Thomas': '010-1234-5680', 'Daniel': '010-1234-5679'}\n",
      "Thomas 010-1234-5680\n",
      "Thomas\n",
      "010-1234-5680\n",
      "{'Alice': '010-2233-5678', 'Thomas': '010-1234-5680', 'Daniel': '010-1234-5679'}\n"
     ]
    }
   ],
   "source": [
    "# Ch. 9, Dictionary manipulation, p.271\n",
    "for key in sorted(phone_book.keys()):\n",
    "    print(key, phone_book[key])\n",
    "    print(key)\n",
    "    print(phone_book[key])\n",
    "    print(phone_book)"
   ]
  },
  {
   "cell_type": "code",
   "execution_count": 37,
   "metadata": {},
   "outputs": [
    {
     "name": "stdout",
     "output_type": "stream",
     "text": [
      "{'Thomas': '010-1234-5680', 'Daniel': '010-1234-5679'}\n"
     ]
    }
   ],
   "source": [
    "# Ch. 9, Dictionary manipulation, p.271\n",
    "del phone_book[\"Alice\"]\n",
    "print(phone_book)"
   ]
  },
  {
   "cell_type": "code",
   "execution_count": 48,
   "metadata": {},
   "outputs": [
    {
     "name": "stdout",
     "output_type": "stream",
     "text": [
      "{}\n"
     ]
    }
   ],
   "source": [
    "# Ch. 9, Dictionary manipulation, p.271\n",
    "phone_book.clear()\n",
    "print(phone_book)"
   ]
  },
  {
   "cell_type": "code",
   "execution_count": 49,
   "metadata": {},
   "outputs": [
    {
     "name": "stdout",
     "output_type": "stream",
     "text": [
      "Enter a number in English: one\n",
      "하나\n",
      "Enter a number in English: quit\n"
     ]
    }
   ],
   "source": [
    "# English-Korean dictionary, p.273\n",
    "english_dic = {}\n",
    "english_dic[\"one\"]=\"하나\"\n",
    "english_dic[\"two\"]=\"둘\"\n",
    "english_dic[\"three\"]=\"셋\"\n",
    "english_dic[\"four\"]=\"넷\"\n",
    "english_dic[\"five\"]=\"다섯\"\n",
    "\n",
    "while True:\n",
    "    word = input(\"Enter a number in English: \")\n",
    "    if word == \"quit\":\n",
    "        break\n",
    "    print(english_dic[word])"
   ]
  },
  {
   "cell_type": "markdown",
   "metadata": {},
   "source": [
    "# A CSV is a comma-separated values file, which allows data to be saved in a tabular format."
   ]
  },
  {
   "cell_type": "markdown",
   "metadata": {},
   "source": [
    "![title](file_usage.png)"
   ]
  },
  {
   "cell_type": "code",
   "execution_count": 50,
   "metadata": {
    "scrolled": true
   },
   "outputs": [
    {
     "name": "stdout",
     "output_type": "stream",
     "text": [
      "george,836-6025\n",
      "jackson,837-6501\n",
      "emma,617-4378\n",
      "sophia,539-8147\n",
      "aiden,213-4567\n",
      "olivia,782-3737\n",
      "liam,347-9038\n",
      "\n"
     ]
    }
   ],
   "source": [
    "# Ch.11, Reading the all data from a file, p.320\n",
    "infile = open(\"phones.csv\",\"r\")\n",
    "lines = infile.read()\n",
    "print(lines)\n",
    "infile.close()"
   ]
  },
  {
   "cell_type": "code",
   "execution_count": 52,
   "metadata": {},
   "outputs": [
    {
     "name": "stdout",
     "output_type": "stream",
     "text": [
      "george,836-6025\n",
      "jackson,837-6501\n",
      "emma,617-4378\n",
      "sophia,539-8147\n",
      "aiden,213-4567\n",
      "olivia,782-3737\n",
      "liam,347-9038\n",
      "\n"
     ]
    }
   ],
   "source": [
    "# Ch.11, Reading the all data from a file in a specific directory,p.320\n",
    "infile = open(\"./phones.csv\",\"r\")\n",
    "lines = infile.read()\n",
    "print(lines)\n",
    "infile.close()"
   ]
  },
  {
   "cell_type": "code",
   "execution_count": 53,
   "metadata": {},
   "outputs": [
    {
     "name": "stdout",
     "output_type": "stream",
     "text": [
      "['george,836-6025\\n', 'jackson,837-6501\\n', 'emma,617-4378\\n', 'sophia,539-8147\\n', 'aiden,213-4567\\n', 'olivia,782-3737\\n', 'liam,347-9038\\n']\n"
     ]
    }
   ],
   "source": [
    "# Ch.11, Reading the all data from a file using \"readlines()\" ,p.320\n",
    "infile = open(\"phones.csv\",\"r\")\n",
    "lines = infile.readlines()\n",
    "print(lines)\n",
    "infile.close()"
   ]
  },
  {
   "cell_type": "code",
   "execution_count": 54,
   "metadata": {},
   "outputs": [
    {
     "name": "stdout",
     "output_type": "stream",
     "text": [
      "george,836-6025\n",
      "jackson,837-6501\n",
      "emma,617-4378\n",
      "sophia,539-8147\n",
      "aiden,213-4567\n",
      "olivia,782-3737\n",
      "liam,347-9038\n"
     ]
    }
   ],
   "source": [
    "# Ch.11, Reading a file line by line using \"readlines()\" ,p.321\n",
    "# \"readlines()\" 함수를 이용하여 한 줄씩 읽기\n",
    "infile = open(\"phones.csv\",\"r\")\n",
    "line = infile.readline().rstrip()\n",
    "while line != \"\":\n",
    "    print(line)\n",
    "    line = infile.readline().rstrip()\n",
    "infile.close()"
   ]
  },
  {
   "cell_type": "code",
   "execution_count": 57,
   "metadata": {},
   "outputs": [
    {
     "name": "stdout",
     "output_type": "stream",
     "text": [
      "george,836-6025\n",
      "jackson,837-6501\n",
      "emma,617-4378\n",
      "sophia,539-8147\n",
      "aiden,213-4567\n",
      "olivia,782-3737\n",
      "liam,347-9038\n"
     ]
    }
   ],
   "source": [
    "# Read a file line by line using line.rstrip(), p.321\n",
    "# 한 줄씩 읽기\n",
    "infile = open(\"phones.csv\", \"r\")\n",
    "for line in infile:\n",
    "    line = line.rstrip()\n",
    "    print(line)\n",
    "infile.close() "
   ]
  },
  {
   "cell_type": "code",
   "execution_count": 58,
   "metadata": {},
   "outputs": [],
   "source": [
    "# Writing data to a file, p.322\n",
    "outfile = open(\"phones.txt\",\"w\")\n",
    "outfile.write(\"Emma 123-1234\") # without carriage return\n",
    "outfile.write(\"Bob 337-7492\")\n",
    "outfile.close()"
   ]
  },
  {
   "cell_type": "code",
   "execution_count": 59,
   "metadata": {},
   "outputs": [],
   "source": [
    "# Adding data to a file, p.324\n",
    "outfile = open(\"phones.txt\",\"a\")\n",
    "outfile.write(\"Mia 512-5123\")  # without carriage return\n",
    "outfile.close()"
   ]
  },
  {
   "cell_type": "code",
   "execution_count": 60,
   "metadata": {},
   "outputs": [
    {
     "name": "stdout",
     "output_type": "stream",
     "text": [
      "Emma 123-1234Bob 337-7492Mia 512-5123\n"
     ]
    }
   ],
   "source": [
    "infile = open(\"phones.txt\",\"r\")\n",
    "lines = infile.read()\n",
    "print(lines)\n",
    "infile.close()"
   ]
  },
  {
   "cell_type": "code",
   "execution_count": 61,
   "metadata": {},
   "outputs": [],
   "source": [
    "# Writing data to a file, p.322\n",
    "outfile = open(\"phones.txt\",\"w\")\n",
    "outfile.write(\"Emma 123-1234\\n\") # with carriage return\n",
    "outfile.write(\"Bob 337-7492\\n\")\n",
    "outfile.close()"
   ]
  },
  {
   "cell_type": "code",
   "execution_count": 62,
   "metadata": {},
   "outputs": [
    {
     "name": "stdout",
     "output_type": "stream",
     "text": [
      "Emma 123-1234\n",
      "Bob 337-7492\n",
      "\n"
     ]
    }
   ],
   "source": [
    "infile = open(\"phones.txt\",\"r\")\n",
    "lines = infile.read()\n",
    "print(lines)\n",
    "infile.close()"
   ]
  },
  {
   "cell_type": "code",
   "execution_count": 63,
   "metadata": {},
   "outputs": [],
   "source": [
    "# Adding data to a file, p.324\n",
    "outfile = open(\"phones.txt\",\"a\")\n",
    "outfile.write(\"Mia 512-5123\\n\")\n",
    "outfile.close()"
   ]
  },
  {
   "cell_type": "code",
   "execution_count": 64,
   "metadata": {},
   "outputs": [
    {
     "name": "stdout",
     "output_type": "stream",
     "text": [
      "Emma 123-1234\n",
      "Bob 337-7492\n",
      "Mia 512-5123\n",
      "\n"
     ]
    }
   ],
   "source": [
    "infile = open(\"phones.txt\",\"r\")\n",
    "lines = infile.read()\n",
    "print(lines)\n",
    "infile.close()"
   ]
  },
  {
   "cell_type": "markdown",
   "metadata": {},
   "source": [
    "![title](file_split.png)"
   ]
  },
  {
   "cell_type": "code",
   "execution_count": 65,
   "metadata": {},
   "outputs": [
    {
     "name": "stdout",
     "output_type": "stream",
     "text": [
      "Emma\n",
      "123-1234\n",
      "Bob\n",
      "337-7492\n",
      "Mia\n",
      "512-5123\n"
     ]
    }
   ],
   "source": [
    "# Reading words from a file, p.325\n",
    "infile = open(\"phones.txt\",\"r\")\n",
    "for line in infile:\n",
    "    line = line.rstrip()\n",
    "    word_list = line.split()\n",
    "    for word in word_list:\n",
    "        print(word)\n",
    "infile.close()"
   ]
  },
  {
   "cell_type": "code",
   "execution_count": 66,
   "metadata": {},
   "outputs": [
    {
     "name": "stdout",
     "output_type": "stream",
     "text": [
      "Enter your input file name: phones.txt\n",
      "Enter your output file name: outputphones.txt\n"
     ]
    }
   ],
   "source": [
    "# Copy a file, p.326\n",
    "infilename = input(\"Enter your input file name: \");\n",
    "outfilename = input(\"Enter your output file name: \");\n",
    "\n",
    "# Open files for input and output\n",
    "infile = open(infilename, \"r\")\n",
    "outfile = open(outfilename, \"w\")\n",
    "\n",
    "# Read the whole file\n",
    "s = infile.read()\n",
    "\n",
    "# Write the whole file\n",
    "outfile.write(s)\n",
    "\n",
    "# Close files\n",
    "infile.close() \n",
    "outfile.close() \n"
   ]
  },
  {
   "cell_type": "markdown",
   "metadata": {},
   "source": [
    "# Object Data\n"
   ]
  },
  {
   "cell_type": "markdown",
   "metadata": {},
   "source": [
    "![image.png](file_pickle.png)"
   ]
  },
  {
   "cell_type": "markdown",
   "metadata": {},
   "source": [
    "##### Reading from and Writing into an Object \n",
    "##### using dump() and load() methods in pickle module\n",
    "\n",
    "##### (pickle 모듈의 dump()와 load() 메소드를 사용하면\n",
    "##### 객체를 쓰고 읽을 수 있다. )"
   ]
  },
  {
   "cell_type": "code",
   "execution_count": 67,
   "metadata": {},
   "outputs": [],
   "source": [
    "# Object writing \n",
    "import pickle\n",
    "# A dictionary using in a game\n",
    "gameOption = { \n",
    "     \"Sound\": 8,\n",
    "     \"VideoQuality\": \"HIGH\",\n",
    "     \"Money\": 100000,\n",
    "     \"WeaponList\": [\"gun\", \"missile\", \"knife\" ]\n",
    "}\n",
    "\n",
    "# Open a binary file\n",
    "file = open( \"save.p\", \"wb\")\n",
    "\n",
    "# Save the dictionary to a pickle file\n",
    "pickle.dump( gameOption, file)\n",
    "\n",
    "# Close the file\n",
    "file.close()"
   ]
  },
  {
   "cell_type": "code",
   "execution_count": 68,
   "metadata": {},
   "outputs": [
    {
     "name": "stdout",
     "output_type": "stream",
     "text": [
      "{'Sound': 8, 'VideoQuality': 'HIGH', 'Money': 100000, 'WeaponList': ['gun', 'missile', 'knife']}\n"
     ]
    }
   ],
   "source": [
    "# Object reading\n",
    "import pickle\n",
    "\n",
    "# Open a binary file\n",
    "file = open( \"save.p\", \"rb\")\n",
    "\n",
    "# Loading dictionary from the pickle file\n",
    "obj = pickle.load( open( \"save.p\", \"rb\"))\n",
    "print(obj)"
   ]
  },
  {
   "cell_type": "markdown",
   "metadata": {},
   "source": [
    "# What is \"Object (객체)\" in Python?"
   ]
  },
  {
   "cell_type": "code",
   "execution_count": 69,
   "metadata": {},
   "outputs": [
    {
     "name": "stdout",
     "output_type": "stream",
     "text": [
      "Words 1\n",
      "Hi\n",
      "Words 2\n",
      "Hi\n",
      "Words 3\n",
      "Hi\n",
      "Words 123456\n"
     ]
    }
   ],
   "source": [
    "var1 = \"123456\" \n",
    "var2 = \"234567\" \n",
    "list1 = [var1, var2]  # <-- list of variables\n",
    "while True:\n",
    "    raninput = input(\"Words \") \n",
    "    if raninput not in list1: \n",
    "      print(\"Hi\")\n",
    "    else:\n",
    "        break"
   ]
  },
  {
   "cell_type": "code",
   "execution_count": 70,
   "metadata": {},
   "outputs": [
    {
     "data": {
      "text/plain": [
       "['123456', '234567']"
      ]
     },
     "execution_count": 70,
     "metadata": {},
     "output_type": "execute_result"
    }
   ],
   "source": [
    "list1"
   ]
  },
  {
   "cell_type": "code",
   "execution_count": 71,
   "metadata": {},
   "outputs": [
    {
     "name": "stdout",
     "output_type": "stream",
     "text": [
      "I am learning Python function\n",
      "still in func1\n"
     ]
    }
   ],
   "source": [
    "#define a function\n",
    "def func1():\n",
    "    print (\"I am learning Python function\")\n",
    "    print (\"still in func1\")\n",
    "func1()   "
   ]
  },
  {
   "cell_type": "code",
   "execution_count": 74,
   "metadata": {},
   "outputs": [
    {
     "name": "stdout",
     "output_type": "stream",
     "text": [
      "I am learning Python function\n",
      "still in func1\n",
      "I am learning Python function still in func1\n"
     ]
    }
   ],
   "source": [
    "#define a function\n",
    "def func1():\n",
    "    print (\"I am learning Python function\")\n",
    "    print (\"still in func1\")\n",
    "    return print(\"I am learning Python function still in func1\")\n",
    "func1()   "
   ]
  },
  {
   "cell_type": "code",
   "execution_count": 72,
   "metadata": {},
   "outputs": [
    {
     "name": "stdout",
     "output_type": "stream",
     "text": [
      "4 times 4 is 16.\n",
      "\n",
      "value of x= 4\n",
      "value of y= 2\n",
      "2 times 4 is 8.\n"
     ]
    }
   ],
   "source": [
    "def square(x):\n",
    "    return x*x\n",
    "a = 4\n",
    "print(\"%s times %s is %s.\" % (a,a,square(4)))\n",
    "print(\"\")\n",
    "\n",
    "def multiply(x,y=0):\n",
    "    print(\"value of x=\",x)\n",
    "    print(\"value of y=\",y)\n",
    "    return x*y\n",
    "x, y = 2, 4\n",
    "print(\"%s times %s is %s.\" % (x, y, multiply(y, x)))"
   ]
  },
  {
   "cell_type": "markdown",
   "metadata": {},
   "source": [
    "Object (객체) is a way to combine a list of variables (**attribute** or property)\n",
    " and functions (**method**).\n",
    "Python 내부에서는 모든 것이 객체로 이루어져 있고, \n",
    "이러한 프로그래밍 방식을 **object-oriented (객체지향)** 이라고 한다."
   ]
  },
  {
   "cell_type": "markdown",
   "metadata": {},
   "source": [
    "![image.png](car_class.jpg)"
   ]
  },
  {
   "cell_type": "markdown",
   "metadata": {},
   "source": [
    "![image.png](car_class2.png)"
   ]
  },
  {
   "cell_type": "code",
   "execution_count": 75,
   "metadata": {},
   "outputs": [
    {
     "name": "stdout",
     "output_type": "stream",
     "text": [
      "10\n"
     ]
    }
   ],
   "source": [
    "class Car:\n",
    "    def drive(self):\n",
    "        self.speed = 10\n",
    "\n",
    "myCar = Car()\n",
    "myCar.color = \"red\"\n",
    "myCar.model = \"Mustang\"\n",
    "\n",
    "myCar.drive()           # 객체 안의 drive() 메소드가 호출된다. \n",
    "print(myCar.speed)      # 10이 출력된다. "
   ]
  },
  {
   "cell_type": "code",
   "execution_count": 78,
   "metadata": {},
   "outputs": [
    {
     "name": "stdout",
     "output_type": "stream",
     "text": [
      "Creating Object of Car ... <__main__.Car object at 0x000001BC9774E6B0>\n",
      "Car's speed is  0\n",
      "Car's color is  yellow\n",
      "Car's model is  Mustang\n",
      "You are driving a car.\n",
      "Car's speed is  60\n"
     ]
    }
   ],
   "source": [
    "class Car:\n",
    "    def drive(self):\n",
    "        self.speed = 60\n",
    "\n",
    "myCar = Car()\n",
    "myCar.speed = 0\n",
    "myCar.model = \"Mustang\"\n",
    "myCar.color = \"yellow\"\n",
    "myCar.year = \"2022\"\n",
    "\n",
    "print(\"Creating Object of Car ...\", myCar)\n",
    "print(\"Car's speed is \", myCar.speed)\n",
    "print(\"Car's color is \", myCar.color)\n",
    "\n",
    "print(\"Car's model is \", myCar.model)\n",
    "print(\"You are driving a car.\")\n",
    "myCar.drive()\n",
    "print(\"Car's speed is \", myCar.speed)"
   ]
  },
  {
   "cell_type": "markdown",
   "metadata": {},
   "source": [
    "We didn't make speed, color, model when we define the class.\n",
    "\n",
    "By defining a special method **\\_\\_init__()** which is called generater\n",
    "to initialize attributes."
   ]
  },
  {
   "cell_type": "code",
   "execution_count": 85,
   "metadata": {},
   "outputs": [
    {
     "name": "stdout",
     "output_type": "stream",
     "text": [
      "<__main__.Car object at 0x000001BC97751D80>\n",
      "momCar:  0 silver Cayman\n"
     ]
    }
   ],
   "source": [
    "# You can build loads of objects with one class.\n",
    "# 하나의 클래스로 여러개의 객체를 생성할 수 있습니다.\n",
    "class Car:\n",
    "    def __init__(self, speed, color, model):\n",
    "        self.speed = speed\n",
    "        self.color = color\n",
    "        self.model = model\n",
    "\n",
    "    def drive(self):\n",
    "        self.speed = 60\n",
    "\n",
    "momCar = Car(0, \"silver\", \"Cayman\")\n",
    "dadCar = Car(0, \"white\", \"Corvette\")\n",
    "myCar = Car(0, \"res\", \"Mustang\")\n",
    "\n",
    "\n",
    "print(myCar)\n",
    "print(\"momCar: \", momCar.speed, momCar.color, momCar.model)"
   ]
  },
  {
   "cell_type": "markdown",
   "metadata": {},
   "source": [
    "When we print an object, **\\_\\_str__()** called magic method is executed."
   ]
  },
  {
   "cell_type": "code",
   "execution_count": 86,
   "metadata": {},
   "outputs": [
    {
     "name": "stdout",
     "output_type": "stream",
     "text": [
      "속도:0 색상:red 모델:Mustang\n"
     ]
    }
   ],
   "source": [
    "class Car:\n",
    "    def __init__(self, speed, color, model):\n",
    "        self.speed = speed\n",
    "        self.color = color\n",
    "        self.model = model\n",
    "\n",
    "    def __str__(self):\n",
    "        msg = \"속도:\"+ str(self.speed)+ \" 색상:\"+ self.color+ \" 모델:\"+ self.model\n",
    "        return msg\n",
    "\n",
    "myCar = Car(0, \"red\", \"Mustang\")\n",
    "print(myCar)\n"
   ]
  },
  {
   "cell_type": "markdown",
   "metadata": {},
   "source": [
    "# What is self?"
   ]
  },
  {
   "cell_type": "markdown",
   "metadata": {},
   "source": [
    "![image.png](self.jpg)"
   ]
  },
  {
   "cell_type": "markdown",
   "metadata": {},
   "source": [
    "### By using the “self” keyword we can access the attributes and methods of the class in python."
   ]
  },
  {
   "cell_type": "code",
   "execution_count": 90,
   "metadata": {},
   "outputs": [
    {
     "name": "stdout",
     "output_type": "stream",
     "text": [
      "Model is genesis g80\n",
      "color is metallic\n",
      "Model is ferrari 488\n",
      "color is green\n"
     ]
    }
   ],
   "source": [
    "# Write Python3 code here \n",
    "  \n",
    "class car(): \n",
    "      \n",
    "    # init method or constructor \n",
    "    def __init__(self, model, color): \n",
    "        self.model = model \n",
    "        self.color = color \n",
    "          \n",
    "    def show(self): \n",
    "        print(\"Model is\", self.model ) \n",
    "        print(\"color is\", self.color ) \n",
    "          \n",
    "# both objects have different self which  \n",
    "# contain their attributes \n",
    "genesis = car(\"genesis g80\", \"metallic\") \n",
    "ferrari = car(\"ferrari 488\", \"green\") \n",
    "  \n",
    "genesis.show()     # same output as car.show(audi) \n",
    "ferrari.show()  # same output as car.show(ferrari) \n",
    "  \n",
    "# Behind the scene, in every instance method  \n",
    "# call, python sends the instances also with \n",
    "# that method call like car.show(audi) \n"
   ]
  },
  {
   "cell_type": "markdown",
   "metadata": {},
   "source": [
    "# [Python Inheritance](https://www.w3schools.com/python/python_inheritance.asp)\n"
   ]
  },
  {
   "cell_type": "code",
   "execution_count": 91,
   "metadata": {},
   "outputs": [],
   "source": [
    "# Python Inheritance with examples\n",
    "# class BaseClass:\n",
    "#     Body of base class\n",
    "# class DerivedClass(BaseClass):\n",
    "#     Body of derived class"
   ]
  },
  {
   "cell_type": "code",
   "execution_count": 92,
   "metadata": {},
   "outputs": [
    {
     "name": "stdout",
     "output_type": "stream",
     "text": [
      "John Doe\n"
     ]
    }
   ],
   "source": [
    "# Create a class named Person, with firstname and lastname properties, and a printname method:\n",
    "class Person:\n",
    "    def __init__(self, fname, lname):\n",
    "        self.firstname = fname\n",
    "        self.lastname = lname\n",
    "\n",
    "    def printname(self):\n",
    "        print(self.firstname, self.lastname)\n",
    "\n",
    "#Use the Person class to create an object, and then execute the printname method:\n",
    "\n",
    "x = Person(\"John\", \"Doe\")\n",
    "x.printname()"
   ]
  },
  {
   "cell_type": "code",
   "execution_count": null,
   "metadata": {},
   "outputs": [],
   "source": [
    "class Student(Person):\n",
    "    pass"
   ]
  },
  {
   "cell_type": "markdown",
   "metadata": {},
   "source": [
    "Use the pass keyword when you do not want to add any other properties or methods to the class."
   ]
  },
  {
   "cell_type": "code",
   "execution_count": null,
   "metadata": {},
   "outputs": [],
   "source": [
    "x = Student(\"Mike\", \"Olsen\")\n",
    "x.printname()"
   ]
  },
  {
   "cell_type": "code",
   "execution_count": null,
   "metadata": {},
   "outputs": [],
   "source": [
    "class Student(Person):\n",
    "    def __init__(self, fname, lname): \n",
    "        self.firstname = lname\n",
    "        self.lastname = fname    #add properties etc."
   ]
  },
  {
   "cell_type": "markdown",
   "metadata": {},
   "source": [
    "The child's __init__() function overrides the inheritance of the parent's __init__() function."
   ]
  },
  {
   "cell_type": "code",
   "execution_count": null,
   "metadata": {},
   "outputs": [],
   "source": [
    "x = Student(\"Mike\", \"Olsen\")\n",
    "x.printname()"
   ]
  },
  {
   "cell_type": "code",
   "execution_count": null,
   "metadata": {},
   "outputs": [],
   "source": [
    "class Student(Person):\n",
    "    def __init__(self, fname, lname):\n",
    "        super().__init__(fname, lname)"
   ]
  },
  {
   "cell_type": "code",
   "execution_count": null,
   "metadata": {},
   "outputs": [],
   "source": [
    "x = Student(\"Mike\", \"Olsen\")\n",
    "x.printname()"
   ]
  },
  {
   "cell_type": "markdown",
   "metadata": {},
   "source": [
    "Add a property called graduation year to the Student class:"
   ]
  },
  {
   "cell_type": "code",
   "execution_count": null,
   "metadata": {},
   "outputs": [],
   "source": [
    "class Student(Person):\n",
    "    def __init__(self, fname, lname):\n",
    "        super().__init__(fname, lname)\n",
    "        self.graduationyear = 2024"
   ]
  },
  {
   "cell_type": "markdown",
   "metadata": {},
   "source": [
    "Add a year parameter, and pass the correct year when creating objects:"
   ]
  },
  {
   "cell_type": "code",
   "execution_count": null,
   "metadata": {},
   "outputs": [],
   "source": [
    "class Student(Person):\n",
    "    def __init__(self, fname, lname, year):\n",
    "        super().__init__(fname, lname)\n",
    "        self.graduationyear = year\n",
    "\n",
    "x = Student(\"Mike\", \"Olsen\", 2020)"
   ]
  },
  {
   "cell_type": "markdown",
   "metadata": {},
   "source": [
    "Add a method called welcome to the Student class:"
   ]
  },
  {
   "cell_type": "code",
   "execution_count": null,
   "metadata": {},
   "outputs": [],
   "source": [
    "class Student(Person):\n",
    "    def __init__(self, fname, lname, year):\n",
    "        super().__init__(fname, lname)\n",
    "        self.graduationyear = year\n",
    "\n",
    "    def welcome(self):\n",
    "        print(\"Welcome\", self.firstname, self.lastname, \"to the class of\", self.graduationyear)"
   ]
  },
  {
   "cell_type": "code",
   "execution_count": null,
   "metadata": {},
   "outputs": [],
   "source": [
    "x = Student(\"Mike\", \"Olsen\", 2022)\n",
    "x.welcome()"
   ]
  },
  {
   "cell_type": "code",
   "execution_count": null,
   "metadata": {},
   "outputs": [],
   "source": []
  }
 ],
 "metadata": {
  "kernelspec": {
   "display_name": "Python 3 (ipykernel)",
   "language": "python",
   "name": "python3"
  },
  "language_info": {
   "codemirror_mode": {
    "name": "ipython",
    "version": 3
   },
   "file_extension": ".py",
   "mimetype": "text/x-python",
   "name": "python",
   "nbconvert_exporter": "python",
   "pygments_lexer": "ipython3",
   "version": "3.10.4"
  }
 },
 "nbformat": 4,
 "nbformat_minor": 2
}
